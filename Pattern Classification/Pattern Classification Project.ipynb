{
 "cells": [
  {
   "cell_type": "code",
   "execution_count": 2,
   "id": "1599e5ec-513f-419a-9464-f622ae8fcdcf",
   "metadata": {},
   "outputs": [
    {
     "name": "stdout",
     "output_type": "stream",
     "text": [
      "Requirement already satisfied: librosa in e:\\anaconda3\\lib\\site-packages (0.11.0)\n",
      "Requirement already satisfied: numpy in e:\\anaconda3\\lib\\site-packages (1.26.4)\n",
      "Requirement already satisfied: scikit-learn in e:\\anaconda3\\lib\\site-packages (1.5.2)\n",
      "Requirement already satisfied: matplotlib in e:\\anaconda3\\lib\\site-packages (3.9.2)\n",
      "Requirement already satisfied: seaborn in e:\\anaconda3\\lib\\site-packages (0.13.2)\n",
      "Requirement already satisfied: audioread>=2.1.9 in e:\\anaconda3\\lib\\site-packages (from librosa) (3.0.1)\n",
      "Requirement already satisfied: numba>=0.51.0 in e:\\anaconda3\\lib\\site-packages (from librosa) (0.60.0)\n",
      "Requirement already satisfied: scipy>=1.6.0 in e:\\anaconda3\\lib\\site-packages (from librosa) (1.13.1)\n",
      "Requirement already satisfied: joblib>=1.0 in e:\\anaconda3\\lib\\site-packages (from librosa) (1.4.2)\n",
      "Requirement already satisfied: decorator>=4.3.0 in e:\\anaconda3\\lib\\site-packages (from librosa) (5.1.1)\n",
      "Requirement already satisfied: soundfile>=0.12.1 in e:\\anaconda3\\lib\\site-packages (from librosa) (0.13.1)\n",
      "Requirement already satisfied: pooch>=1.1 in e:\\anaconda3\\lib\\site-packages (from librosa) (1.8.2)\n",
      "Requirement already satisfied: soxr>=0.3.2 in e:\\anaconda3\\lib\\site-packages (from librosa) (0.5.0.post1)\n",
      "Requirement already satisfied: typing_extensions>=4.1.1 in e:\\anaconda3\\lib\\site-packages (from librosa) (4.11.0)\n",
      "Requirement already satisfied: lazy_loader>=0.1 in e:\\anaconda3\\lib\\site-packages (from librosa) (0.4)\n",
      "Requirement already satisfied: msgpack>=1.0 in e:\\anaconda3\\lib\\site-packages (from librosa) (1.0.3)\n",
      "Requirement already satisfied: threadpoolctl>=3.1.0 in e:\\anaconda3\\lib\\site-packages (from scikit-learn) (3.5.0)\n",
      "Requirement already satisfied: contourpy>=1.0.1 in e:\\anaconda3\\lib\\site-packages (from matplotlib) (1.2.0)\n",
      "Requirement already satisfied: cycler>=0.10 in e:\\anaconda3\\lib\\site-packages (from matplotlib) (0.11.0)\n",
      "Requirement already satisfied: fonttools>=4.22.0 in e:\\anaconda3\\lib\\site-packages (from matplotlib) (4.51.0)\n",
      "Requirement already satisfied: kiwisolver>=1.3.1 in e:\\anaconda3\\lib\\site-packages (from matplotlib) (1.4.4)\n",
      "Requirement already satisfied: packaging>=20.0 in e:\\anaconda3\\lib\\site-packages (from matplotlib) (24.1)\n",
      "Requirement already satisfied: pillow>=8 in e:\\anaconda3\\lib\\site-packages (from matplotlib) (10.4.0)\n",
      "Requirement already satisfied: pyparsing>=2.3.1 in e:\\anaconda3\\lib\\site-packages (from matplotlib) (3.1.2)\n",
      "Requirement already satisfied: python-dateutil>=2.7 in e:\\anaconda3\\lib\\site-packages (from matplotlib) (2.9.0.post0)\n",
      "Requirement already satisfied: pandas>=1.2 in e:\\anaconda3\\lib\\site-packages (from seaborn) (2.2.2)\n",
      "Requirement already satisfied: llvmlite<0.44,>=0.43.0dev0 in e:\\anaconda3\\lib\\site-packages (from numba>=0.51.0->librosa) (0.43.0)\n",
      "Requirement already satisfied: pytz>=2020.1 in e:\\anaconda3\\lib\\site-packages (from pandas>=1.2->seaborn) (2024.1)\n",
      "Requirement already satisfied: tzdata>=2022.7 in e:\\anaconda3\\lib\\site-packages (from pandas>=1.2->seaborn) (2023.3)\n",
      "Requirement already satisfied: platformdirs>=2.5.0 in e:\\anaconda3\\lib\\site-packages (from pooch>=1.1->librosa) (3.10.0)\n",
      "Requirement already satisfied: requests>=2.19.0 in e:\\anaconda3\\lib\\site-packages (from pooch>=1.1->librosa) (2.32.3)\n",
      "Requirement already satisfied: six>=1.5 in e:\\anaconda3\\lib\\site-packages (from python-dateutil>=2.7->matplotlib) (1.16.0)\n",
      "Requirement already satisfied: cffi>=1.0 in e:\\anaconda3\\lib\\site-packages (from soundfile>=0.12.1->librosa) (1.17.1)\n",
      "Requirement already satisfied: pycparser in e:\\anaconda3\\lib\\site-packages (from cffi>=1.0->soundfile>=0.12.1->librosa) (2.21)\n",
      "Requirement already satisfied: charset-normalizer<4,>=2 in e:\\anaconda3\\lib\\site-packages (from requests>=2.19.0->pooch>=1.1->librosa) (3.3.2)\n",
      "Requirement already satisfied: idna<4,>=2.5 in e:\\anaconda3\\lib\\site-packages (from requests>=2.19.0->pooch>=1.1->librosa) (3.7)\n",
      "Requirement already satisfied: urllib3<3,>=1.21.1 in e:\\anaconda3\\lib\\site-packages (from requests>=2.19.0->pooch>=1.1->librosa) (2.2.3)\n",
      "Requirement already satisfied: certifi>=2017.4.17 in e:\\anaconda3\\lib\\site-packages (from requests>=2.19.0->pooch>=1.1->librosa) (2024.8.30)\n"
     ]
    }
   ],
   "source": [
    "## Requirements:\n",
    "!pip install librosa numpy scikit-learn matplotlib seaborn"
   ]
  },
  {
   "cell_type": "code",
   "execution_count": 3,
   "id": "3de8671d-62ea-4f99-bf09-56003da789e6",
   "metadata": {},
   "outputs": [],
   "source": [
    "import os\n",
    "import librosa\n",
    "import numpy as np\n",
    "import pickle\n",
    "import seaborn as sns\n",
    "import matplotlib.pyplot as plt\n",
    "from sklearn.mixture import GaussianMixture\n",
    "from sklearn.model_selection import train_test_split\n",
    "from sklearn.metrics import accuracy_score, classification_report, confusion_matrix"
   ]
  },
  {
   "cell_type": "code",
   "execution_count": 4,
   "id": "c94321ca-2d1b-4ebe-b237-d82541bb6826",
   "metadata": {},
   "outputs": [],
   "source": [
    "DATASET_PATH = \"dataset\""
   ]
  },
  {
   "cell_type": "code",
   "execution_count": 5,
   "id": "bfb3089a-20b1-4265-9238-77740a1ad7c5",
   "metadata": {},
   "outputs": [],
   "source": [
    "emotion_labels = {\n",
    "    '01': 'neutral', '02': 'calm', '03': 'happy', '04': 'sad',\n",
    "    '05': 'angry', '06': 'fearful', '07': 'disgust', '08': 'surprised'\n",
    "}"
   ]
  },
  {
   "cell_type": "code",
   "execution_count": 6,
   "id": "c0992b9f-c166-4682-9e70-7629cef1d2f9",
   "metadata": {},
   "outputs": [],
   "source": [
    "def extract_features(file_path, max_pad_len=100):\n",
    "    y, sr = librosa.load(file_path, sr=None)  # Load audio file\n",
    "    mfccs = librosa.feature.mfcc(y=y, sr=sr, n_mfcc=13)  # Extract 13 MFCCs\n",
    "    pad_width = max_pad_len - mfccs.shape[1]\n",
    "    if pad_width > 0:\n",
    "        mfccs = np.pad(mfccs, pad_width=((0, 0), (0, pad_width)), mode='constant')\n",
    "    else:\n",
    "        mfccs = mfccs[:, :max_pad_len]\n",
    "    return np.mean(mfccs, axis=1)  # Mean of MFCCs to reduce dimensions"
   ]
  },
  {
   "cell_type": "code",
   "execution_count": 8,
   "id": "aeb170f5-c90f-477c-8b17-18dc27167b05",
   "metadata": {},
   "outputs": [
    {
     "name": "stdout",
     "output_type": "stream",
     "text": [
      "Skipping non-audio file: Actor_01\n",
      "Skipping non-audio file: Actor_02\n",
      "Skipping non-audio file: Actor_03\n",
      "Skipping non-audio file: Actor_04\n",
      "Skipping non-audio file: Actor_05\n",
      "Skipping non-audio file: Actor_06\n",
      "Skipping non-audio file: Actor_07\n",
      "Skipping non-audio file: Actor_08\n",
      "Skipping non-audio file: Actor_09\n",
      "Skipping non-audio file: Actor_10\n",
      "Skipping non-audio file: Actor_11\n",
      "Skipping non-audio file: Actor_12\n",
      "Skipping non-audio file: Actor_13\n",
      "Skipping non-audio file: Actor_14\n",
      "Skipping non-audio file: Actor_15\n",
      "Skipping non-audio file: Actor_16\n",
      "Skipping non-audio file: Actor_17\n",
      "Skipping non-audio file: Actor_18\n",
      "Skipping non-audio file: Actor_19\n",
      "Skipping non-audio file: Actor_20\n",
      "Skipping non-audio file: Actor_21\n",
      "Skipping non-audio file: Actor_22\n",
      "Skipping non-audio file: Actor_23\n",
      "Skipping non-audio file: Actor_24\n"
     ]
    }
   ],
   "source": [
    "for file in os.listdir(actor_path):\n",
    "    if not file.endswith(\".wav\"):  \n",
    "        print(f\"Skipping non-audio file: {file}\")\n",
    "        continue  \n",
    "\n",
    "    file_path = os.path.join(actor_path, file)\n",
    "    parts = file.split(\"-\")\n",
    "    \n",
    "    if len(parts) < 3:  \n",
    "        print(f\"Skipping improperly named file: {file}\")\n",
    "        continue  \n",
    "\n",
    "    emotion_code = parts[2]  \n",
    "    if emotion_code in emotion_labels:\n",
    "        features = extract_features(file_path)\n",
    "        X.append(features)\n",
    "        y.append(emotion_labels[emotion_code])"
   ]
  },
  {
   "cell_type": "code",
   "execution_count": 9,
   "id": "6c829249-31a3-4399-b6db-b276c481177d",
   "metadata": {},
   "outputs": [],
   "source": [
    "X_train, X_test, y_train, y_test = train_test_split(X, y, test_size=0.2, random_state=42)"
   ]
  },
  {
   "cell_type": "code",
   "execution_count": 11,
   "id": "68452f20-6ce3-4f18-b5f9-a89b9cb8dcf5",
   "metadata": {
    "scrolled": true
   },
   "outputs": [
    {
     "name": "stderr",
     "output_type": "stream",
     "text": [
      "E:\\Anaconda3\\Lib\\site-packages\\sklearn\\cluster\\_kmeans.py:1429: UserWarning: KMeans is known to have a memory leak on Windows with MKL, when there are less chunks than available threads. You can avoid it by setting the environment variable OMP_NUM_THREADS=1.\n",
      "  warnings.warn(\n",
      "E:\\Anaconda3\\Lib\\site-packages\\sklearn\\cluster\\_kmeans.py:1429: UserWarning: KMeans is known to have a memory leak on Windows with MKL, when there are less chunks than available threads. You can avoid it by setting the environment variable OMP_NUM_THREADS=1.\n",
      "  warnings.warn(\n",
      "E:\\Anaconda3\\Lib\\site-packages\\sklearn\\cluster\\_kmeans.py:1429: UserWarning: KMeans is known to have a memory leak on Windows with MKL, when there are less chunks than available threads. You can avoid it by setting the environment variable OMP_NUM_THREADS=1.\n",
      "  warnings.warn(\n",
      "E:\\Anaconda3\\Lib\\site-packages\\sklearn\\cluster\\_kmeans.py:1429: UserWarning: KMeans is known to have a memory leak on Windows with MKL, when there are less chunks than available threads. You can avoid it by setting the environment variable OMP_NUM_THREADS=1.\n",
      "  warnings.warn(\n",
      "E:\\Anaconda3\\Lib\\site-packages\\sklearn\\cluster\\_kmeans.py:1429: UserWarning: KMeans is known to have a memory leak on Windows with MKL, when there are less chunks than available threads. You can avoid it by setting the environment variable OMP_NUM_THREADS=1.\n",
      "  warnings.warn(\n",
      "E:\\Anaconda3\\Lib\\site-packages\\sklearn\\cluster\\_kmeans.py:1429: UserWarning: KMeans is known to have a memory leak on Windows with MKL, when there are less chunks than available threads. You can avoid it by setting the environment variable OMP_NUM_THREADS=1.\n",
      "  warnings.warn(\n",
      "E:\\Anaconda3\\Lib\\site-packages\\sklearn\\cluster\\_kmeans.py:1429: UserWarning: KMeans is known to have a memory leak on Windows with MKL, when there are less chunks than available threads. You can avoid it by setting the environment variable OMP_NUM_THREADS=1.\n",
      "  warnings.warn(\n",
      "E:\\Anaconda3\\Lib\\site-packages\\sklearn\\cluster\\_kmeans.py:1429: UserWarning: KMeans is known to have a memory leak on Windows with MKL, when there are less chunks than available threads. You can avoid it by setting the environment variable OMP_NUM_THREADS=1.\n",
      "  warnings.warn(\n"
     ]
    }
   ],
   "source": [
    "gmm_models = {}\n",
    "\n",
    "for emotion in np.unique(y_train):\n",
    "    gmm = GaussianMixture(n_components=4, max_iter=200, covariance_type='diag', random_state=42)\n",
    "\n",
    "    # Fix: Convert X_train subset into a 2D array before fitting\n",
    "    X_emotion = np.array([x for x, y in zip(X_train, y_train) if y == emotion])\n",
    "    X_emotion = X_emotion.reshape(len(X_emotion), -1)  # Ensure 2D shape\n",
    "\n",
    "    gmm.fit(X_emotion)\n",
    "    gmm_models[emotion] = gmm"
   ]
  },
  {
   "cell_type": "code",
   "execution_count": 12,
   "id": "e620d4b0-3f00-4a8e-84e0-f3ec8ca7e7aa",
   "metadata": {},
   "outputs": [],
   "source": [
    "y_pred = []\n",
    "\n",
    "for x in X_test:\n",
    "    scores = {emotion: gmm_models[emotion].score_samples([x]).sum() for emotion in gmm_models}\n",
    "    y_pred.append(max(scores, key=scores.get))\n",
    "\n",
    "y_pred = np.array(y_pred)"
   ]
  },
  {
   "cell_type": "code",
   "execution_count": 13,
   "id": "156ec9b5-f9a0-4455-b539-4406a992b24c",
   "metadata": {},
   "outputs": [
    {
     "name": "stdout",
     "output_type": "stream",
     "text": [
      "Accuracy: 0.2673611111111111\n",
      "\n",
      "Classification Report:\n",
      "               precision    recall  f1-score   support\n",
      "\n",
      "       angry       0.34      0.36      0.35        42\n",
      "        calm       0.45      0.34      0.39        44\n",
      "     disgust       0.19      0.38      0.25        32\n",
      "     fearful       0.32      0.31      0.32        32\n",
      "       happy       0.16      0.15      0.15        34\n",
      "     neutral       0.20      0.25      0.22        20\n",
      "         sad       0.19      0.15      0.17        39\n",
      "   surprised       0.32      0.20      0.25        45\n",
      "\n",
      "    accuracy                           0.27       288\n",
      "   macro avg       0.27      0.27      0.26       288\n",
      "weighted avg       0.28      0.27      0.27       288\n",
      "\n"
     ]
    },
    {
     "data": {
      "image/png": "[encoded data removed]",
      "text/plain": [
       "<Figure size 800x600 with 2 Axes>"
      ]
     },
     "metadata": {},
     "output_type": "display_data"
    }
   ],
   "source": [
    "print(\"Accuracy:\", accuracy_score(y_test, y_pred))\n",
    "print(\"\\nClassification Report:\\n\", classification_report(y_test, y_pred))\n",
    "\n",
    "conf_matrix = confusion_matrix(y_test, y_pred)\n",
    "plt.figure(figsize=(8, 6))\n",
    "sns.heatmap(conf_matrix, annot=True, cmap=\"Blues\", fmt=\"d\", xticklabels=np.unique(y), yticklabels=np.unique(y))\n",
    "plt.xlabel(\"Predicted\")\n",
    "plt.ylabel(\"Actual\")\n",
    "plt.title(\"Confusion Matrix\")\n",
    "plt.show()"
   ]
  },
  {
   "cell_type": "code",
   "execution_count": 14,
   "id": "fa416e5a-0387-454c-a503-571037a64617",
   "metadata": {},
   "outputs": [],
   "source": [
    "with open(\"gmm_model.pkl\", \"wb\") as f:\n",
    "    pickle.dump(gmm_models, f)"
   ]
  },
  {
   "cell_type": "code",
   "execution_count": 16,
   "id": "2629d9c7-e411-479f-aaff-9dac76910eba",
   "metadata": {},
   "outputs": [
    {
     "name": "stdout",
     "output_type": "stream",
     "text": [
      "Predicted Emotion: calm\n"
     ]
    }
   ],
   "source": [
    "with open(\"gmm_model.pkl\", \"rb\") as f:\n",
    "    gmm_models = pickle.load(f)\n",
    "\n",
    "def predict_emotion(file_path):\n",
    "    features = extract_features(file_path)\n",
    "    scores = {emotion: gmm_models[emotion].score_samples([features]).sum() for emotion in gmm_models}\n",
    "    return max(scores, key=scores.get)\n",
    "\n",
    "test_audio = \"dataset/Actor_01/03-01-02-02-01-02-01.wav\"  # Change as needed\n",
    "predicted_emotion = predict_emotion(test_audio)\n",
    "print(\"Predicted Emotion:\", predicted_emotion)"
   ]
  },
  {
   "cell_type": "code",
   "execution_count": 1,
   "id": "fe10771e-b725-4055-9143-ec2b81b2f707",
   "metadata": {},
   "outputs": [
    {
     "name": "stderr",
     "output_type": "stream",
     "text": [
      "E:\\Anaconda3\\Lib\\site-packages\\paramiko\\pkey.py:82: CryptographyDeprecationWarning: TripleDES has been moved to cryptography.hazmat.decrepit.ciphers.algorithms.TripleDES and will be removed from this module in 48.0.0.\n",
      "  \"cipher\": algorithms.TripleDES,\n",
      "E:\\Anaconda3\\Lib\\site-packages\\paramiko\\transport.py:219: CryptographyDeprecationWarning: Blowfish has been moved to cryptography.hazmat.decrepit.ciphers.algorithms.Blowfish and will be removed from this module in 45.0.0.\n",
      "  \"class\": algorithms.Blowfish,\n",
      "E:\\Anaconda3\\Lib\\site-packages\\paramiko\\transport.py:243: CryptographyDeprecationWarning: TripleDES has been moved to cryptography.hazmat.decrepit.ciphers.algorithms.TripleDES and will be removed from this module in 48.0.0.\n",
      "  \"class\": algorithms.TripleDES,\n"
     ]
    },
    {
     "name": "stdout",
     "output_type": "stream",
     "text": [
      "🎭 Predicted Emotion: disgust\n"
     ]
    }
   ],
   "source": [
    "import pickle\n",
    "import numpy as np\n",
    "import librosa\n",
    "import librosa.display \n",
    "import IPython.display as ipd\n",
    "import tkinter as tk\n",
    "from tkinter import filedialog\n",
    "\n",
    "# Function to extract MFCC features\n",
    "def extract_features(file_path):\n",
    "    y, sr = librosa.load(file_path, sr=None)\n",
    "    mfccs = librosa.feature.mfcc(y=y, sr=sr, n_mfcc=13)\n",
    "    return np.mean(mfccs.T, axis=0)\n",
    "\n",
    "# Load trained GMM models\n",
    "with open(\"gmm_model.pkl\", \"rb\") as f:\n",
    "    gmm_models = pickle.load(f)\n",
    "\n",
    "# Function to let user select a file\n",
    "def select_file():\n",
    "    root = tk.Tk()\n",
    "    root.withdraw()  # Hide the main window\n",
    "    file_path = filedialog.askopenfilename(filetypes=[(\"WAV files\", \"*.wav\")])\n",
    "    return file_path\n",
    "\n",
    "# Let user select the .wav file\n",
    "file_path = select_file()\n",
    "if not file_path:\n",
    "    print(\"⚠️ No file selected. Please try again.\")\n",
    "else:\n",
    "    # Predict function\n",
    "    def predict_emotion(file_path):\n",
    "        features = extract_features(file_path)\n",
    "        scores = {emotion: gmm_models[emotion].score_samples([features]).sum() for emotion in gmm_models}\n",
    "        return max(scores, key=scores.get)\n",
    "\n",
    "    # Run prediction\n",
    "    predicted_emotion = predict_emotion(file_path)\n",
    "    print(f\"🎭 Predicted Emotion: {predicted_emotion}\")\n",
    "\n",
    "    # Play the selected file\n",
    "    ipd.Audio(file_path)"
   ]
  },
  {
   "cell_type": "code",
   "execution_count": null,
   "id": "5ca408c3-b87b-4747-9c92-64a7f1641cf1",
   "metadata": {},
   "outputs": [],
   "source": []
  }
 ],
 "metadata": {
  "kernelspec": {
   "display_name": "Python 3 (ipykernel)",
   "language": "python",
   "name": "python3"
  },
  "language_info": {
   "codemirror_mode": {
    "name": "ipython",
    "version": 3
   },
   "file_extension": ".py",
   "mimetype": "text/x-python",
   "name": "python",
   "nbconvert_exporter": "python",
   "pygments_lexer": "ipython3",
   "version": "3.12.7"
  }
 },
 "nbformat": 4,
 "nbformat_minor": 5
}
